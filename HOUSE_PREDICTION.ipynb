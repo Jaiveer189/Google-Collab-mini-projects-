{
  "cells": [
    {
      "cell_type": "markdown",
      "metadata": {
        "id": "view-in-github",
        "colab_type": "text"
      },
      "source": [
        "<a href=\"https://colab.research.google.com/github/Jaiveer189/Google-Collab-mini-projects-/blob/main/HOUSE_PREDICTION.ipynb\" target=\"_parent\"><img src=\"https://colab.research.google.com/assets/colab-badge.svg\" alt=\"Open In Colab\"/></a>"
      ]
    },
    {
      "cell_type": "markdown",
      "metadata": {
        "id": "ZkhMPPCnolHl"
      },
      "source": [
        "house price prediction\n"
      ]
    },
    {
      "cell_type": "code",
      "execution_count": null,
      "metadata": {
        "id": "5ReZ4qZbpEyl"
      },
      "outputs": [],
      "source": [
        "import pandas as pd\n",
        "import numpy as np"
      ]
    },
    {
      "cell_type": "code",
      "execution_count": null,
      "metadata": {
        "colab": {
          "base_uri": "https://localhost:8080/"
        },
        "collapsed": true,
        "id": "dwFR-UZupRuM",
        "outputId": "abf1bba3-0a6c-4377-c456-c9ca9d3fa5bc"
      },
      "outputs": [
        {
          "name": "stdout",
          "output_type": "stream",
          "text": [
            "<bound method NDFrame.head of          Index                                              Title  \\\n",
            "0            0  1 BHK Ready to Occupy Flat for sale in Srushti...   \n",
            "1            1  2 BHK Ready to Occupy Flat for sale in Dosti V...   \n",
            "2            2  2 BHK Ready to Occupy Flat for sale in Sunrise...   \n",
            "3            3        1 BHK Ready to Occupy Flat for sale Kasheli   \n",
            "4            4  2 BHK Ready to Occupy Flat for sale in TenX Ha...   \n",
            "...        ...                                                ...   \n",
            "187526  187526  3 BHK Ready to Occupy Flat for sale in Bollywo...   \n",
            "187527  187527  3 BHK Ready to Occupy Flat for sale in Sushma ...   \n",
            "187528  187528  3 BHK Ready to Occupy Flat for sale in Bollywo...   \n",
            "187529  187529  2 BHK Ready to Occupy Flat for sale in Friends...   \n",
            "187530  187530  3 BHK Ready to Occupy Flat for sale in Affinit...   \n",
            "\n",
            "                                              Description Amount(in rupees)  \\\n",
            "0       Bhiwandi, Thane has an attractive 1 BHK Flat f...           42 Lac    \n",
            "1       One can find this stunning 2 BHK flat for sale...           98 Lac    \n",
            "2       Up for immediate sale is a 2 BHK apartment in ...          1.40 Cr    \n",
            "3       This beautiful 1 BHK Flat is available for sal...           25 Lac    \n",
            "4       This lovely 2 BHK Flat in Pokhran Road, Thane ...          1.60 Cr    \n",
            "...                                                   ...               ...   \n",
            "187526  This magnificent 3 BHK Flat is available for s...           63 Lac    \n",
            "187527  Have a look at this immaculate 3 BHK flat for ...           55 Lac    \n",
            "187528  Gazipur, Zirakpur has an appealing 3 BHK flat ...           76 Lac    \n",
            "187529  Up for immediate sale is a 2 BHK apartment in ...           30 Lac    \n",
            "187530  This exquisite 3 BHK Flat is offered for sale ...          1.18 Cr    \n",
            "\n",
            "        Price (in rupees)  location Carpet Area         Status         Floor  \\\n",
            "0                  6000.0     thane    500 sqft  Ready to Move  10 out of 11   \n",
            "1                 13799.0     thane    473 sqft  Ready to Move   3 out of 22   \n",
            "2                 17500.0     thane    779 sqft  Ready to Move  10 out of 29   \n",
            "3                     NaN     thane    530 sqft  Ready to Move    1 out of 3   \n",
            "4                 18824.0     thane    635 sqft  Ready to Move  20 out of 42   \n",
            "...                   ...       ...         ...            ...           ...   \n",
            "187526             3225.0  zirakpur         NaN  Ready to Move    2 out of 4   \n",
            "187527             3274.0  zirakpur         NaN  Ready to Move    4 out of 6   \n",
            "187528             4343.0  zirakpur   1250 sqft  Ready to Move    1 out of 3   \n",
            "187529             4231.0  zirakpur         NaN  Ready to Move    2 out of 2   \n",
            "187530             6162.0  zirakpur         NaN  Ready to Move   5 out of 13   \n",
            "\n",
            "         Transaction  ...        facing             overlooking  \\\n",
            "0             Resale  ...           NaN                     NaN   \n",
            "1             Resale  ...          East             Garden/Park   \n",
            "2             Resale  ...          East             Garden/Park   \n",
            "3             Resale  ...           NaN                     NaN   \n",
            "4             Resale  ...          West  Garden/Park, Main Road   \n",
            "...              ...  ...           ...                     ...   \n",
            "187526  New Property  ...          East             Garden/Park   \n",
            "187527        Resale  ...  North - East  Garden/Park, Main Road   \n",
            "187528        Resale  ...          East  Garden/Park, Main Road   \n",
            "187529        Resale  ...           NaN               Main Road   \n",
            "187530        Resale  ...  North - East       Garden/Park, Pool   \n",
            "\n",
            "                                    Society Bathroom Balcony Car Parking  \\\n",
            "0       Srushti Siddhi Mangal Murti Complex        1       2         NaN   \n",
            "1                               Dosti Vihar        2     NaN      1 Open   \n",
            "2                      Sunrise by Kalpataru        2     NaN   1 Covered   \n",
            "3                                       NaN        1       1         NaN   \n",
            "4               TenX Habitat Raymond Realty        2     NaN   1 Covered   \n",
            "...                                     ...      ...     ...         ...   \n",
            "187526                    Bollywood Esencia        3       3   1 Covered   \n",
            "187527                   Sushma Urban Views        3     NaN   1 Covered   \n",
            "187528                    Bollywood Esencia        3       2  1 Covered,   \n",
            "187529                      Friends Enclave        2     NaN         NaN   \n",
            "187530                      Affinity Greens        4       4   1 Covered   \n",
            "\n",
            "                   Ownership Super Area Dimensions  Plot Area  \n",
            "0                        NaN        NaN        NaN        NaN  \n",
            "1                   Freehold        NaN        NaN        NaN  \n",
            "2                   Freehold        NaN        NaN        NaN  \n",
            "3                        NaN        NaN        NaN        NaN  \n",
            "4       Co-operative Society        NaN        NaN        NaN  \n",
            "...                      ...        ...        ...        ...  \n",
            "187526              Freehold  1953 sqft        NaN        NaN  \n",
            "187527                   NaN  1680 sqft        NaN        NaN  \n",
            "187528              Freehold        NaN        NaN        NaN  \n",
            "187529                   NaN   709 sqft        NaN        NaN  \n",
            "187530              Freehold  1915 sqft        NaN        NaN  \n",
            "\n",
            "[187531 rows x 21 columns]>\n"
          ]
        }
      ],
      "source": [
        "#Loading the data\n",
        "df = pd.read_csv(\"house_prices.csv\")\n",
        "print(df.head)\n"
      ]
    },
    {
      "cell_type": "code",
      "execution_count": null,
      "metadata": {
        "colab": {
          "base_uri": "https://localhost:8080/"
        },
        "collapsed": true,
        "id": "0s5ygNIk1rW5",
        "outputId": "49f601c5-77b2-4d52-cc9f-ef4fb05ee1d9"
      },
      "outputs": [
        {
          "name": "stdout",
          "output_type": "stream",
          "text": [
            "   Index                                              Title  \\\n",
            "0      0  1 BHK Ready to Occupy Flat for sale in Srushti...   \n",
            "1      1  2 BHK Ready to Occupy Flat for sale in Dosti V...   \n",
            "2      2  2 BHK Ready to Occupy Flat for sale in Sunrise...   \n",
            "3      3        1 BHK Ready to Occupy Flat for sale Kasheli   \n",
            "4      4  2 BHK Ready to Occupy Flat for sale in TenX Ha...   \n",
            "\n",
            "                                         Description Amount(in rupees)  \\\n",
            "0  Bhiwandi, Thane has an attractive 1 BHK Flat f...           42 Lac    \n",
            "1  One can find this stunning 2 BHK flat for sale...           98 Lac    \n",
            "2  Up for immediate sale is a 2 BHK apartment in ...          1.40 Cr    \n",
            "3  This beautiful 1 BHK Flat is available for sal...           25 Lac    \n",
            "4  This lovely 2 BHK Flat in Pokhran Road, Thane ...          1.60 Cr    \n",
            "\n",
            "   Price (in rupees) location Carpet Area         Status         Floor  \\\n",
            "0             6000.0    thane    500 sqft  Ready to Move  10 out of 11   \n",
            "1            13799.0    thane    473 sqft  Ready to Move   3 out of 22   \n",
            "2            17500.0    thane    779 sqft  Ready to Move  10 out of 29   \n",
            "3                NaN    thane    530 sqft  Ready to Move    1 out of 3   \n",
            "4            18824.0    thane    635 sqft  Ready to Move  20 out of 42   \n",
            "\n",
            "  Transaction  ... facing             overlooking  \\\n",
            "0      Resale  ...    NaN                     NaN   \n",
            "1      Resale  ...   East             Garden/Park   \n",
            "2      Resale  ...   East             Garden/Park   \n",
            "3      Resale  ...    NaN                     NaN   \n",
            "4      Resale  ...   West  Garden/Park, Main Road   \n",
            "\n",
            "                               Society Bathroom Balcony Car Parking  \\\n",
            "0  Srushti Siddhi Mangal Murti Complex        1       2         NaN   \n",
            "1                          Dosti Vihar        2     NaN      1 Open   \n",
            "2                 Sunrise by Kalpataru        2     NaN   1 Covered   \n",
            "3                                  NaN        1       1         NaN   \n",
            "4          TenX Habitat Raymond Realty        2     NaN   1 Covered   \n",
            "\n",
            "              Ownership Super Area Dimensions  Plot Area  \n",
            "0                   NaN        NaN        NaN        NaN  \n",
            "1              Freehold        NaN        NaN        NaN  \n",
            "2              Freehold        NaN        NaN        NaN  \n",
            "3                   NaN        NaN        NaN        NaN  \n",
            "4  Co-operative Society        NaN        NaN        NaN  \n",
            "\n",
            "[5 rows x 21 columns]\n"
          ]
        }
      ],
      "source": [
        "#Viewing and inspecting the data\n",
        "# load few rows\n",
        "print(df.head())"
      ]
    },
    {
      "cell_type": "code",
      "execution_count": null,
      "metadata": {
        "colab": {
          "base_uri": "https://localhost:8080/"
        },
        "id": "E9Bj32LB2MP0",
        "outputId": "66c90999-2101-416a-c69e-4452a0d5608f"
      },
      "outputs": [
        {
          "name": "stdout",
          "output_type": "stream",
          "text": [
            "(187531, 21)\n"
          ]
        }
      ],
      "source": [
        "#Check data shape\n",
        "print(df.shape)"
      ]
    },
    {
      "cell_type": "code",
      "execution_count": null,
      "metadata": {
        "colab": {
          "base_uri": "https://localhost:8080/"
        },
        "collapsed": true,
        "id": "xwt0gmX72VoQ",
        "outputId": "6ffa1473-f041-4dfc-b769-50426cb7aea7"
      },
      "outputs": [
        {
          "name": "stdout",
          "output_type": "stream",
          "text": [
            "Index                  int64\n",
            "Title                 object\n",
            "Description           object\n",
            "Amount(in rupees)     object\n",
            "Price (in rupees)    float64\n",
            "location              object\n",
            "Carpet Area           object\n",
            "Status                object\n",
            "Floor                 object\n",
            "Transaction           object\n",
            "Furnishing            object\n",
            "facing                object\n",
            "overlooking           object\n",
            "Society               object\n",
            "Bathroom              object\n",
            "Balcony               object\n",
            "Car Parking           object\n",
            "Ownership             object\n",
            "Super Area            object\n",
            "Dimensions           float64\n",
            "Plot Area            float64\n",
            "dtype: object\n"
          ]
        }
      ],
      "source": [
        "# check data types\n",
        "print(df.dtypes)"
      ]
    },
    {
      "cell_type": "code",
      "execution_count": null,
      "metadata": {
        "colab": {
          "base_uri": "https://localhost:8080/"
        },
        "collapsed": true,
        "id": "F5xuQi872f2V",
        "outputId": "23ab3acf-5070-4214-a6aa-87b1bafea170"
      },
      "outputs": [
        {
          "name": "stdout",
          "output_type": "stream",
          "text": [
            "Index(['Index', 'Title', 'Description', 'Amount(in rupees)',\n",
            "       'Price (in rupees)', 'location', 'Carpet Area', 'Status', 'Floor',\n",
            "       'Transaction', 'Furnishing', 'facing', 'overlooking', 'Society',\n",
            "       'Bathroom', 'Balcony', 'Car Parking', 'Ownership', 'Super Area',\n",
            "       'Dimensions', 'Plot Area'],\n",
            "      dtype='object')\n"
          ]
        }
      ],
      "source": [
        "#see column names\n",
        "print(df.columns)"
      ]
    },
    {
      "cell_type": "markdown",
      "metadata": {
        "id": "ZSPVFpcI2uf_"
      },
      "source": [
        "Basic Statistics with pandas"
      ]
    },
    {
      "cell_type": "code",
      "execution_count": null,
      "metadata": {
        "colab": {
          "base_uri": "https://localhost:8080/"
        },
        "collapsed": true,
        "id": "gG8gRWuk2q87",
        "outputId": "94da23dd-768c-4c04-e8c9-54ed76dad23c"
      },
      "outputs": [
        {
          "name": "stdout",
          "output_type": "stream",
          "text": [
            "               Index  Price (in rupees)  Dimensions  Plot Area\n",
            "count  187531.000000       1.698660e+05         0.0        0.0\n",
            "mean    93765.000000       7.583772e+03         NaN        NaN\n",
            "std     54135.681003       2.724171e+04         NaN        NaN\n",
            "min         0.000000       0.000000e+00         NaN        NaN\n",
            "25%     46882.500000       4.297000e+03         NaN        NaN\n",
            "50%     93765.000000       6.034000e+03         NaN        NaN\n",
            "75%    140647.500000       9.450000e+03         NaN        NaN\n",
            "max    187530.000000       6.700000e+06         NaN        NaN\n"
          ]
        }
      ],
      "source": [
        "#summary of all columns\n",
        "print(df.describe())"
      ]
    },
    {
      "cell_type": "code",
      "execution_count": null,
      "metadata": {
        "colab": {
          "base_uri": "https://localhost:8080/"
        },
        "collapsed": true,
        "id": "rN2eLxc93C5B",
        "outputId": "68973108-0981-48ae-f72a-5593908f30a7"
      },
      "outputs": [
        {
          "name": "stdout",
          "output_type": "stream",
          "text": [
            "count    1.698660e+05\n",
            "mean     7.583772e+03\n",
            "std      2.724171e+04\n",
            "min      0.000000e+00\n",
            "25%      4.297000e+03\n",
            "50%      6.034000e+03\n",
            "75%      9.450000e+03\n",
            "max      6.700000e+06\n",
            "Name: Price (in rupees), dtype: float64\n"
          ]
        }
      ],
      "source": [
        "#summary for a single column\n",
        "print(df['Price (in rupees)'].describe())"
      ]
    },
    {
      "cell_type": "code",
      "execution_count": null,
      "metadata": {
        "colab": {
          "base_uri": "https://localhost:8080/"
        },
        "collapsed": true,
        "id": "ZgU7VDKK3f75",
        "outputId": "b3fcc429-cb46-4c4b-ed3b-d996eff26a37"
      },
      "outputs": [
        {
          "name": "stdout",
          "output_type": "stream",
          "text": [
            "Index                     0\n",
            "Title                     0\n",
            "Description            3023\n",
            "Amount(in rupees)         0\n",
            "Price (in rupees)     17665\n",
            "location                  0\n",
            "Carpet Area           80673\n",
            "Status                  615\n",
            "Floor                  7077\n",
            "Transaction              83\n",
            "Furnishing             2897\n",
            "facing                70233\n",
            "overlooking           81436\n",
            "Society              109678\n",
            "Bathroom                828\n",
            "Balcony               48935\n",
            "Car Parking          103357\n",
            "Ownership             65517\n",
            "Super Area           107685\n",
            "Dimensions           187531\n",
            "Plot Area            187531\n",
            "dtype: int64\n"
          ]
        }
      ],
      "source": [
        "#count the missing value\n",
        "print(df.isnull().sum())"
      ]
    },
    {
      "cell_type": "code",
      "execution_count": null,
      "metadata": {
        "colab": {
          "base_uri": "https://localhost:8080/"
        },
        "collapsed": true,
        "id": "2j1zb3Vk4Rik",
        "outputId": "07a08f01-252a-4da2-c586-7b80064b1231"
      },
      "outputs": [
        {
          "name": "stdout",
          "output_type": "stream",
          "text": [
            "['thane' 'navi-mumbai' 'nagpur' 'mumbai' 'ahmedabad' 'bangalore' 'chennai'\n",
            " 'gurgaon' 'hyderabad' 'indore' 'jaipur' 'kolkata' 'lucknow' 'new-delhi'\n",
            " 'noida' 'pune' 'agra' 'ahmadnagar' 'allahabad' 'aurangabad' 'badlapur'\n",
            " 'belgaum' 'bhiwadi' 'bhiwandi' 'bhopal' 'bhubaneswar' 'chandigarh'\n",
            " 'coimbatore' 'dehradun' 'durgapur' 'ernakulam' 'faridabad' 'ghaziabad'\n",
            " 'goa' 'greater-noida' 'guntur' 'guwahati' 'gwalior' 'haridwar' 'jabalpur'\n",
            " 'jamshedpur' 'jodhpur' 'kalyan' 'kanpur' 'kochi' 'kozhikode' 'ludhiana'\n",
            " 'madurai' 'mangalore' 'mohali' 'mysore' 'nashik' 'navsari' 'nellore'\n",
            " 'palakkad' 'palghar' 'panchkula' 'patna' 'pondicherry' 'raipur'\n",
            " 'rajahmundry' 'ranchi' 'satara' 'shimla' 'siliguri' 'solapur' 'sonipat'\n",
            " 'surat' 'thrissur' 'tirupati' 'trichy' 'trivandrum' 'udaipur' 'udupi'\n",
            " 'vadodara' 'vapi' 'varanasi' 'vijayawada' 'visakhapatnam' 'vrindavan'\n",
            " 'zirakpur']\n",
            "location\n",
            "new-delhi      27599\n",
            "bangalore      24030\n",
            "kolkata        22380\n",
            "gurgaon        20070\n",
            "ahmedabad      12750\n",
            "               ...  \n",
            "nellore           30\n",
            "pondicherry       30\n",
            "navsari           30\n",
            "palakkad          30\n",
            "solapur           30\n",
            "Name: count, Length: 81, dtype: int64\n"
          ]
        }
      ],
      "source": [
        "#finding the unique valus\n",
        "print(df['location'].unique())\n",
        "print(df['location'].value_counts())"
      ]
    },
    {
      "cell_type": "markdown",
      "metadata": {
        "id": "-EbRpjbR442V"
      },
      "source": [
        "Filtring and Selecting data"
      ]
    },
    {
      "cell_type": "code",
      "execution_count": null,
      "metadata": {
        "colab": {
          "base_uri": "https://localhost:8080/"
        },
        "id": "zY_KmSt841TH",
        "outputId": "301848d2-c734-4f90-9f91-454e6a504a0c"
      },
      "outputs": [
        {
          "name": "stdout",
          "output_type": "stream",
          "text": [
            "0          6000.0\n",
            "1         13799.0\n",
            "2         17500.0\n",
            "3             NaN\n",
            "4         18824.0\n",
            "           ...   \n",
            "187526     3225.0\n",
            "187527     3274.0\n",
            "187528     4343.0\n",
            "187529     4231.0\n",
            "187530     6162.0\n",
            "Name: Price (in rupees), Length: 187531, dtype: float64\n"
          ]
        }
      ],
      "source": [
        "#filter single colunm\n",
        "print(df['Price (in rupees)'])"
      ]
    },
    {
      "cell_type": "code",
      "execution_count": null,
      "metadata": {
        "colab": {
          "base_uri": "https://localhost:8080/"
        },
        "collapsed": true,
        "id": "GVKf-pdW5Ibr",
        "outputId": "c82bd8f4-a5b3-42fe-c5b5-a65891432133"
      },
      "outputs": [
        {
          "name": "stdout",
          "output_type": "stream",
          "text": [
            "        Price (in rupees)  location\n",
            "0                  6000.0     thane\n",
            "1                 13799.0     thane\n",
            "2                 17500.0     thane\n",
            "3                     NaN     thane\n",
            "4                 18824.0     thane\n",
            "...                   ...       ...\n",
            "187526             3225.0  zirakpur\n",
            "187527             3274.0  zirakpur\n",
            "187528             4343.0  zirakpur\n",
            "187529             4231.0  zirakpur\n",
            "187530             6162.0  zirakpur\n",
            "\n",
            "[187531 rows x 2 columns]\n"
          ]
        }
      ],
      "source": [
        "#filter multiple columns\n",
        "print(df[['Price (in rupees)', 'location']])"
      ]
    },
    {
      "cell_type": "code",
      "execution_count": null,
      "metadata": {
        "colab": {
          "base_uri": "https://localhost:8080/"
        },
        "collapsed": true,
        "id": "KPIT_34Q5m5G",
        "outputId": "e73ced55-5fd7-4794-818c-23eaebc069a5"
      },
      "outputs": [
        {
          "name": "stdout",
          "output_type": "stream",
          "text": [
            "         Index                                              Title  \\\n",
            "147912  147912     5 BHK Ready to Occupy Flat for sale Dayal Bagh   \n",
            "174894  174894    2 BHK Ready to Occupy Flat for sale Kachna Road   \n",
            "175013  175013  2 BHK Ready to Occupy Flat for sale in Chaitan...   \n",
            "176536  176536  3 BHK Ready to Occupy Flat for sale Hill Cart ...   \n",
            "180481  180481     3 BHK Ready to Occupy Flat for sale Sreekaryam   \n",
            "180679  180679      2 BHK Ready to Occupy Flat for sale Fatehpura   \n",
            "181234  181234  3 BHK Ready to Occupy Flat for sale in Nest Ha...   \n",
            "\n",
            "                                              Description Amount(in rupees)  \\\n",
            "147912  Discover this immaculate 5 BHK flat for sale a...          1.35 Cr    \n",
            "174894  Kachna Road, Raipur has an attractive 2 BHK Fl...        396.75 Cr    \n",
            "175013  This lovely 2 BHK Flat in Saddu, Raipur is up ...        229.80 Cr    \n",
            "176536  This ready to move-in 3 BHK flat is available ...        510.04 Cr    \n",
            "180481  This attractive 3 BHK apartment can be found f...          1.44 Cr    \n",
            "180679  This attractive 2 BHK apartment can be found f...           45 Lac    \n",
            "181234  Have a look at this immaculate 3 BHK flat for ...       1400.30 Cr    \n",
            "\n",
            "        Price (in rupees)    location Carpet Area         Status  \\\n",
            "147912          4500000.0        agra    3 ground  Ready to Move   \n",
            "174894          3450000.0      raipur    920 sqft  Ready to Move   \n",
            "175013          2669100.0      raipur    750 sqft  Ready to Move   \n",
            "176536          4041600.0    siliguri    970 sqft  Ready to Move   \n",
            "180481          1200000.0  trivandrum         NaN  Ready to Move   \n",
            "180679          4500000.0     udaipur         NaN  Ready to Move   \n",
            "181234          6700000.0    vadodara   1252 sqft  Ready to Move   \n",
            "\n",
            "                  Floor   Transaction  ... facing  \\\n",
            "147912       1 out of 2        Resale  ...    NaN   \n",
            "174894       2 out of 2  New Property  ...   East   \n",
            "175013       2 out of 9  New Property  ...   East   \n",
            "176536       1 out of 4  New Property  ...  North   \n",
            "180481  Ground out of 1        Resale  ...   East   \n",
            "180679       4 out of 4        Resale  ...    NaN   \n",
            "181234       5 out of 9  New Property  ...    NaN   \n",
            "\n",
            "                         overlooking           Society Bathroom Balcony  \\\n",
            "147912                     Main Road               NaN        5       1   \n",
            "174894  Garden/Park, Pool, Main Road               NaN        2       2   \n",
            "175013        Garden/Park, Main Road  Chaitanya Greens        2       1   \n",
            "176536                     Main Road               NaN        2       1   \n",
            "180481                     Main Road               NaN        3       3   \n",
            "180679                           NaN               NaN        2     NaN   \n",
            "181234                           NaN      Nest Harmony        3       5   \n",
            "\n",
            "       Car Parking          Ownership Super Area Dimensions  Plot Area  \n",
            "147912         NaN                NaN        NaN        NaN        NaN  \n",
            "174894  1 Covered,           Freehold        NaN        NaN        NaN  \n",
            "175013  1 Covered,           Freehold        NaN        NaN        NaN  \n",
            "176536   1 Covered           Freehold        NaN        NaN        NaN  \n",
            "180481         NaN  Power Of Attorney    12 sqft        NaN        NaN  \n",
            "180679         NaN                NaN     1 sqft        NaN        NaN  \n",
            "181234   1 Covered                NaN        NaN        NaN        NaN  \n",
            "\n",
            "[7 rows x 21 columns]\n"
          ]
        }
      ],
      "source": [
        "#Filter rows eg.price above 1million\n",
        "print(df[df['Price (in rupees)']> 1000000])"
      ]
    },
    {
      "cell_type": "markdown",
      "metadata": {
        "id": "FoTJJcOa6NFB"
      },
      "source": [
        "Simple Calculations using Numpy and Pandas"
      ]
    },
    {
      "cell_type": "code",
      "execution_count": null,
      "metadata": {
        "id": "MIS3Mip36Rkx"
      },
      "outputs": [],
      "source": [
        "#mean median and stanard deviation\n",
        "mean_Price = np.mean(df['Price (in rupees)'].mean())\n",
        "median_Price =np.median(df['Price (in rupees)'].median())\n",
        "std_Price =np.std(df['Price (in rupees)'].std())\n",
        "print(mean_Price,median_Price,std_Price)"
      ]
    },
    {
      "cell_type": "code",
      "execution_count": null,
      "metadata": {
        "id": "EMJ3blaI8JGe"
      },
      "outputs": [],
      "source": [
        "#minimum and maximum price\n",
        "min_price = df['Price (in rupees)'].min()\n",
        "max_price = df['Price (in rupees)'].max()\n",
        "print(min_price,max_price)"
      ]
    },
    {
      "cell_type": "code",
      "execution_count": null,
      "metadata": {
        "id": "02f47732"
      },
      "outputs": [],
      "source": [
        "#Loading the data\n",
        "df = pd.read_csv(\"house_prices.csv\")\n",
        "print(df.head)"
      ]
    },
    {
      "cell_type": "code",
      "execution_count": null,
      "metadata": {
        "colab": {
          "base_uri": "https://localhost:8080/",
          "height": 193
        },
        "id": "9931ddfb",
        "outputId": "36ceb553-9be1-488d-c9f8-334a9a93c499"
      },
      "outputs": [
        {
          "ename": "NameError",
          "evalue": "name 'df' is not defined",
          "output_type": "error",
          "traceback": [
            "\u001b[0;31m---------------------------------------------------------------------------\u001b[0m",
            "\u001b[0;31mNameError\u001b[0m                                 Traceback (most recent call last)",
            "\u001b[0;32m/tmp/ipython-input-2-699656080.py\u001b[0m in \u001b[0;36m<cell line: 0>\u001b[0;34m()\u001b[0m\n\u001b[1;32m      1\u001b[0m \u001b[0;31m#minimum and maximum price\u001b[0m\u001b[0;34m\u001b[0m\u001b[0;34m\u001b[0m\u001b[0m\n\u001b[0;32m----> 2\u001b[0;31m \u001b[0mmin_price\u001b[0m \u001b[0;34m=\u001b[0m \u001b[0mdf\u001b[0m\u001b[0;34m[\u001b[0m\u001b[0;34m'Price (in rupees)'\u001b[0m\u001b[0;34m]\u001b[0m\u001b[0;34m.\u001b[0m\u001b[0mmin\u001b[0m\u001b[0;34m(\u001b[0m\u001b[0;34m)\u001b[0m\u001b[0;34m\u001b[0m\u001b[0;34m\u001b[0m\u001b[0m\n\u001b[0m\u001b[1;32m      3\u001b[0m \u001b[0mmax_price\u001b[0m \u001b[0;34m=\u001b[0m \u001b[0mdf\u001b[0m\u001b[0;34m[\u001b[0m\u001b[0;34m'Price (in rupees)'\u001b[0m\u001b[0;34m]\u001b[0m\u001b[0;34m.\u001b[0m\u001b[0mmax\u001b[0m\u001b[0;34m(\u001b[0m\u001b[0;34m)\u001b[0m\u001b[0;34m\u001b[0m\u001b[0;34m\u001b[0m\u001b[0m\n\u001b[1;32m      4\u001b[0m \u001b[0mprint\u001b[0m\u001b[0;34m(\u001b[0m\u001b[0mmin_price\u001b[0m\u001b[0;34m,\u001b[0m\u001b[0mmax_price\u001b[0m\u001b[0;34m)\u001b[0m\u001b[0;34m\u001b[0m\u001b[0;34m\u001b[0m\u001b[0m\n",
            "\u001b[0;31mNameError\u001b[0m: name 'df' is not defined"
          ]
        }
      ],
      "source": [
        "#minimum and maximum price\n",
        "min_price = df['Price (in rupees)'].min()\n",
        "max_price = df['Price (in rupees)'].max()\n",
        "print(min_price,max_price)"
      ]
    },
    {
      "cell_type": "code",
      "execution_count": null,
      "metadata": {
        "colab": {
          "base_uri": "https://localhost:8080/"
        },
        "id": "20631770",
        "outputId": "88c0808e-3f63-4f3f-a3a5-baffde926711"
      },
      "outputs": [
        {
          "name": "stdout",
          "output_type": "stream",
          "text": [
            "<bound method NDFrame.head of        Index                                              Title  \\\n",
            "0          0  1 BHK Ready to Occupy Flat for sale in Srushti...   \n",
            "1          1  2 BHK Ready to Occupy Flat for sale in Dosti V...   \n",
            "2          2  2 BHK Ready to Occupy Flat for sale in Sunrise...   \n",
            "3          3        1 BHK Ready to Occupy Flat for sale Kasheli   \n",
            "4          4  2 BHK Ready to Occupy Flat for sale in TenX Ha...   \n",
            "...      ...                                                ...   \n",
            "28995  28995  2 BHK Ready to Occupy Flat for sale in Jai Gar...   \n",
            "28996  28996  2 BHK Ready to Occupy Flat for sale in SB Temp...   \n",
            "28997  28997  2 BHK Ready to Occupy Flat for sale in Legacy ...   \n",
            "28998  28998  2 BHK Ready to Occupy Flat for sale in Santhos...   \n",
            "28999  28999  2 BHK Ready to Occupy Flat for sale A Narayana...   \n",
            "\n",
            "                                             Description Amount(in rupees)  \\\n",
            "0      Bhiwandi, Thane has an attractive 1 BHK Flat f...           42 Lac    \n",
            "1      One can find this stunning 2 BHK flat for sale...           98 Lac    \n",
            "2      Up for immediate sale is a 2 BHK apartment in ...          1.40 Cr    \n",
            "3      This beautiful 1 BHK Flat is available for sal...           25 Lac    \n",
            "4      This lovely 2 BHK Flat in Pokhran Road, Thane ...          1.60 Cr    \n",
            "...                                                  ...               ...   \n",
            "28995  Up for immediate sale is a 2 BHK apartment in ...           83 Lac    \n",
            "28996                                                NaN          1.17 Cr    \n",
            "28997  2 BHK flat available for sale in Bangalore in ...           65 Lac    \n",
            "28998  This exquisite 2 BHK Flat is offered for sale ...           85 Lac    \n",
            "28999         This gorgeous 2 BHK Flat is available for                NaN   \n",
            "\n",
            "       Price (in rupees)   location Carpet Area         Status         Floor  \\\n",
            "0                 6000.0      thane    500 sqft  Ready to Move  10 out of 11   \n",
            "1                13799.0      thane    473 sqft  Ready to Move   3 out of 22   \n",
            "2                17500.0      thane    779 sqft  Ready to Move  10 out of 29   \n",
            "3                    NaN      thane    530 sqft  Ready to Move    1 out of 3   \n",
            "4                18824.0      thane    635 sqft  Ready to Move  20 out of 42   \n",
            "...                  ...        ...         ...            ...           ...   \n",
            "28995             6854.0  bangalore    880 sqft  Ready to Move    4 out of 5   \n",
            "28996             9161.0  bangalore         NaN  Ready to Move           NaN   \n",
            "28997             5508.0  bangalore         NaN  Ready to Move    1 out of 4   \n",
            "28998             7456.0  bangalore         NaN  Ready to Move    3 out of 4   \n",
            "28999                NaN        NaN         NaN            NaN           NaN   \n",
            "\n",
            "        Transaction  ... facing                   overlooking  \\\n",
            "0            Resale  ...    NaN                           NaN   \n",
            "1            Resale  ...   East                   Garden/Park   \n",
            "2            Resale  ...   East                   Garden/Park   \n",
            "3            Resale  ...    NaN                           NaN   \n",
            "4            Resale  ...   West        Garden/Park, Main Road   \n",
            "...             ...  ...    ...                           ...   \n",
            "28995        Resale  ...  North  Garden/Park, Pool, Main Road   \n",
            "28996  New Property  ...    NaN                           NaN   \n",
            "28997        Resale  ...    NaN                           NaN   \n",
            "28998        Resale  ...    NaN                           NaN   \n",
            "28999           NaN  ...    NaN                           NaN   \n",
            "\n",
            "                                   Society Bathroom Balcony Car Parking  \\\n",
            "0      Srushti Siddhi Mangal Murti Complex        1       2         NaN   \n",
            "1                              Dosti Vihar        2     NaN      1 Open   \n",
            "2                     Sunrise by Kalpataru        2     NaN   1 Covered   \n",
            "3                                      NaN        1       1         NaN   \n",
            "4              TenX Habitat Raymond Realty        2     NaN   1 Covered   \n",
            "...                                    ...      ...     ...         ...   \n",
            "28995                                  NaN        2       2         NaN   \n",
            "28996                                  NaN        2     NaN   1 Covered   \n",
            "28997                                  NaN        2       1         NaN   \n",
            "28998                                  NaN        2     NaN         NaN   \n",
            "28999                                  NaN      NaN     NaN         NaN   \n",
            "\n",
            "                  Ownership Super Area Dimensions  Plot Area  \n",
            "0                       NaN        NaN        NaN        NaN  \n",
            "1                  Freehold        NaN        NaN        NaN  \n",
            "2                  Freehold        NaN        NaN        NaN  \n",
            "3                       NaN        NaN        NaN        NaN  \n",
            "4      Co-operative Society        NaN        NaN        NaN  \n",
            "...                     ...        ...        ...        ...  \n",
            "28995              Freehold        NaN        NaN        NaN  \n",
            "28996                   NaN  1285 sqft        NaN        NaN  \n",
            "28997              Freehold  1180 sqft        NaN        NaN  \n",
            "28998                   NaN  1140 sqft        NaN        NaN  \n",
            "28999                   NaN        NaN        NaN        NaN  \n",
            "\n",
            "[29000 rows x 21 columns]>\n"
          ]
        }
      ],
      "source": [
        "#Loading the data\n",
        "df = pd.read_csv(\"/content/house_prices (1) (1).csv\")\n",
        "print(df.head)"
      ]
    },
    {
      "cell_type": "code",
      "execution_count": null,
      "metadata": {
        "colab": {
          "base_uri": "https://localhost:8080/",
          "height": 193
        },
        "id": "6e0e84c5",
        "outputId": "e74b1442-93c8-4cd2-9a16-9f37a2f06c5a"
      },
      "outputs": [
        {
          "ename": "NameError",
          "evalue": "name 'df' is not defined",
          "output_type": "error",
          "traceback": [
            "\u001b[0;31m---------------------------------------------------------------------------\u001b[0m",
            "\u001b[0;31mNameError\u001b[0m                                 Traceback (most recent call last)",
            "\u001b[0;32m/tmp/ipython-input-4-699656080.py\u001b[0m in \u001b[0;36m<cell line: 0>\u001b[0;34m()\u001b[0m\n\u001b[1;32m      1\u001b[0m \u001b[0;31m#minimum and maximum price\u001b[0m\u001b[0;34m\u001b[0m\u001b[0;34m\u001b[0m\u001b[0m\n\u001b[0;32m----> 2\u001b[0;31m \u001b[0mmin_price\u001b[0m \u001b[0;34m=\u001b[0m \u001b[0mdf\u001b[0m\u001b[0;34m[\u001b[0m\u001b[0;34m'Price (in rupees)'\u001b[0m\u001b[0;34m]\u001b[0m\u001b[0;34m.\u001b[0m\u001b[0mmin\u001b[0m\u001b[0;34m(\u001b[0m\u001b[0;34m)\u001b[0m\u001b[0;34m\u001b[0m\u001b[0;34m\u001b[0m\u001b[0m\n\u001b[0m\u001b[1;32m      3\u001b[0m \u001b[0mmax_price\u001b[0m \u001b[0;34m=\u001b[0m \u001b[0mdf\u001b[0m\u001b[0;34m[\u001b[0m\u001b[0;34m'Price (in rupees)'\u001b[0m\u001b[0;34m]\u001b[0m\u001b[0;34m.\u001b[0m\u001b[0mmax\u001b[0m\u001b[0;34m(\u001b[0m\u001b[0;34m)\u001b[0m\u001b[0;34m\u001b[0m\u001b[0;34m\u001b[0m\u001b[0m\n\u001b[1;32m      4\u001b[0m \u001b[0mprint\u001b[0m\u001b[0;34m(\u001b[0m\u001b[0mmin_price\u001b[0m\u001b[0;34m,\u001b[0m\u001b[0mmax_price\u001b[0m\u001b[0;34m)\u001b[0m\u001b[0;34m\u001b[0m\u001b[0;34m\u001b[0m\u001b[0m\n",
            "\u001b[0;31mNameError\u001b[0m: name 'df' is not defined"
          ]
        }
      ],
      "source": [
        "#minimum and maximum price\n",
        "min_price = df['Price (in rupees)'].min()\n",
        "max_price = df['Price (in rupees)'].max()\n",
        "print(min_price,max_price)"
      ]
    },
    {
      "cell_type": "code",
      "execution_count": null,
      "metadata": {
        "id": "bec7ac08"
      },
      "outputs": [],
      "source": [
        "import pandas as pd\n",
        "import numpy as np"
      ]
    },
    {
      "cell_type": "code",
      "execution_count": null,
      "metadata": {
        "colab": {
          "base_uri": "https://localhost:8080/"
        },
        "id": "a2ae24cc",
        "outputId": "f1f2b7a8-cd70-4d72-f3dc-3a60aaa03011"
      },
      "outputs": [
        {
          "name": "stdout",
          "output_type": "stream",
          "text": [
            "<bound method NDFrame.head of        Index                                              Title  \\\n",
            "0          0  1 BHK Ready to Occupy Flat for sale in Srushti...   \n",
            "1          1  2 BHK Ready to Occupy Flat for sale in Dosti V...   \n",
            "2          2  2 BHK Ready to Occupy Flat for sale in Sunrise...   \n",
            "3          3        1 BHK Ready to Occupy Flat for sale Kasheli   \n",
            "4          4  2 BHK Ready to Occupy Flat for sale in TenX Ha...   \n",
            "...      ...                                                ...   \n",
            "28995  28995  2 BHK Ready to Occupy Flat for sale in Jai Gar...   \n",
            "28996  28996  2 BHK Ready to Occupy Flat for sale in SB Temp...   \n",
            "28997  28997  2 BHK Ready to Occupy Flat for sale in Legacy ...   \n",
            "28998  28998  2 BHK Ready to Occupy Flat for sale in Santhos...   \n",
            "28999  28999  2 BHK Ready to Occupy Flat for sale A Narayana...   \n",
            "\n",
            "                                             Description Amount(in rupees)  \\\n",
            "0      Bhiwandi, Thane has an attractive 1 BHK Flat f...           42 Lac    \n",
            "1      One can find this stunning 2 BHK flat for sale...           98 Lac    \n",
            "2      Up for immediate sale is a 2 BHK apartment in ...          1.40 Cr    \n",
            "3      This beautiful 1 BHK Flat is available for sal...           25 Lac    \n",
            "4      This lovely 2 BHK Flat in Pokhran Road, Thane ...          1.60 Cr    \n",
            "...                                                  ...               ...   \n",
            "28995  Up for immediate sale is a 2 BHK apartment in ...           83 Lac    \n",
            "28996                                                NaN          1.17 Cr    \n",
            "28997  2 BHK flat available for sale in Bangalore in ...           65 Lac    \n",
            "28998  This exquisite 2 BHK Flat is offered for sale ...           85 Lac    \n",
            "28999         This gorgeous 2 BHK Flat is available for                NaN   \n",
            "\n",
            "       Price (in rupees)   location Carpet Area         Status         Floor  \\\n",
            "0                 6000.0      thane    500 sqft  Ready to Move  10 out of 11   \n",
            "1                13799.0      thane    473 sqft  Ready to Move   3 out of 22   \n",
            "2                17500.0      thane    779 sqft  Ready to Move  10 out of 29   \n",
            "3                    NaN      thane    530 sqft  Ready to Move    1 out of 3   \n",
            "4                18824.0      thane    635 sqft  Ready to Move  20 out of 42   \n",
            "...                  ...        ...         ...            ...           ...   \n",
            "28995             6854.0  bangalore    880 sqft  Ready to Move    4 out of 5   \n",
            "28996             9161.0  bangalore         NaN  Ready to Move           NaN   \n",
            "28997             5508.0  bangalore         NaN  Ready to Move    1 out of 4   \n",
            "28998             7456.0  bangalore         NaN  Ready to Move    3 out of 4   \n",
            "28999                NaN        NaN         NaN            NaN           NaN   \n",
            "\n",
            "        Transaction  ... facing                   overlooking  \\\n",
            "0            Resale  ...    NaN                           NaN   \n",
            "1            Resale  ...   East                   Garden/Park   \n",
            "2            Resale  ...   East                   Garden/Park   \n",
            "3            Resale  ...    NaN                           NaN   \n",
            "4            Resale  ...   West        Garden/Park, Main Road   \n",
            "...             ...  ...    ...                           ...   \n",
            "28995        Resale  ...  North  Garden/Park, Pool, Main Road   \n",
            "28996  New Property  ...    NaN                           NaN   \n",
            "28997        Resale  ...    NaN                           NaN   \n",
            "28998        Resale  ...    NaN                           NaN   \n",
            "28999           NaN  ...    NaN                           NaN   \n",
            "\n",
            "                                   Society Bathroom Balcony Car Parking  \\\n",
            "0      Srushti Siddhi Mangal Murti Complex        1       2         NaN   \n",
            "1                              Dosti Vihar        2     NaN      1 Open   \n",
            "2                     Sunrise by Kalpataru        2     NaN   1 Covered   \n",
            "3                                      NaN        1       1         NaN   \n",
            "4              TenX Habitat Raymond Realty        2     NaN   1 Covered   \n",
            "...                                    ...      ...     ...         ...   \n",
            "28995                                  NaN        2       2         NaN   \n",
            "28996                                  NaN        2     NaN   1 Covered   \n",
            "28997                                  NaN        2       1         NaN   \n",
            "28998                                  NaN        2     NaN         NaN   \n",
            "28999                                  NaN      NaN     NaN         NaN   \n",
            "\n",
            "                  Ownership Super Area Dimensions  Plot Area  \n",
            "0                       NaN        NaN        NaN        NaN  \n",
            "1                  Freehold        NaN        NaN        NaN  \n",
            "2                  Freehold        NaN        NaN        NaN  \n",
            "3                       NaN        NaN        NaN        NaN  \n",
            "4      Co-operative Society        NaN        NaN        NaN  \n",
            "...                     ...        ...        ...        ...  \n",
            "28995              Freehold        NaN        NaN        NaN  \n",
            "28996                   NaN  1285 sqft        NaN        NaN  \n",
            "28997              Freehold  1180 sqft        NaN        NaN  \n",
            "28998                   NaN  1140 sqft        NaN        NaN  \n",
            "28999                   NaN        NaN        NaN        NaN  \n",
            "\n",
            "[29000 rows x 21 columns]>\n"
          ]
        }
      ],
      "source": [
        "#Loading the data\n",
        "df = pd.read_csv(\"/content/house_prices (1) (1).csv\")\n",
        "print(df.head)"
      ]
    },
    {
      "cell_type": "code",
      "execution_count": null,
      "metadata": {
        "colab": {
          "base_uri": "https://localhost:8080/"
        },
        "id": "b0677273",
        "outputId": "20541a40-7d06-46fd-848e-b477f8a7e7e5"
      },
      "outputs": [
        {
          "name": "stdout",
          "output_type": "stream",
          "text": [
            "Error: house_prices.csv not found. Please make sure the file is in the correct directory.\n"
          ]
        }
      ],
      "source": [
        "import pandas as pd\n",
        "\n",
        "#Loading the data\n",
        "try:\n",
        "    df = pd.read_csv(\"/content/house_prices (1) (1).csv\")\n",
        "    #minimum and maximum price\n",
        "    min_price = df['Price (in rupees)'].min()\n",
        "    max_price = df['Price (in rupees)'].max()\n",
        "    print(min_price,max_price)\n",
        "except FileNotFoundError:\n",
        "    print(\"Error: house_prices.csv not found. Please make sure the file is in the correct directory.\")"
      ]
    },
    {
      "cell_type": "code",
      "execution_count": null,
      "metadata": {
        "colab": {
          "background_save": true,
          "base_uri": "https://localhost:8080/",
          "height": 56
        },
        "id": "2iAXohUyU_we",
        "outputId": "be699a68-2514-4bec-b02f-8b2c0e655365"
      },
      "outputs": [
        {
          "data": {
            "text/html": [
              "\n",
              "     <input type=\"file\" id=\"files-d7b74f43-15c9-4baa-bb2b-80dee9973642\" name=\"files[]\" multiple disabled\n",
              "        style=\"border:none\" />\n",
              "     <output id=\"result-d7b74f43-15c9-4baa-bb2b-80dee9973642\">\n",
              "      Upload widget is only available when the cell has been executed in the\n",
              "      current browser session. Please rerun this cell to enable.\n",
              "      </output>\n",
              "      <script>// Copyright 2017 Google LLC\n",
              "//\n",
              "// Licensed under the Apache License, Version 2.0 (the \"License\");\n",
              "// you may not use this file except in compliance with the License.\n",
              "// You may obtain a copy of the License at\n",
              "//\n",
              "//      http://www.apache.org/licenses/LICENSE-2.0\n",
              "//\n",
              "// Unless required by applicable law or agreed to in writing, software\n",
              "// distributed under the License is distributed on an \"AS IS\" BASIS,\n",
              "// WITHOUT WARRANTIES OR CONDITIONS OF ANY KIND, either express or implied.\n",
              "// See the License for the specific language governing permissions and\n",
              "// limitations under the License.\n",
              "\n",
              "/**\n",
              " * @fileoverview Helpers for google.colab Python module.\n",
              " */\n",
              "(function(scope) {\n",
              "function span(text, styleAttributes = {}) {\n",
              "  const element = document.createElement('span');\n",
              "  element.textContent = text;\n",
              "  for (const key of Object.keys(styleAttributes)) {\n",
              "    element.style[key] = styleAttributes[key];\n",
              "  }\n",
              "  return element;\n",
              "}\n",
              "\n",
              "// Max number of bytes which will be uploaded at a time.\n",
              "const MAX_PAYLOAD_SIZE = 100 * 1024;\n",
              "\n",
              "function _uploadFiles(inputId, outputId) {\n",
              "  const steps = uploadFilesStep(inputId, outputId);\n",
              "  const outputElement = document.getElementById(outputId);\n",
              "  // Cache steps on the outputElement to make it available for the next call\n",
              "  // to uploadFilesContinue from Python.\n",
              "  outputElement.steps = steps;\n",
              "\n",
              "  return _uploadFilesContinue(outputId);\n",
              "}\n",
              "\n",
              "// This is roughly an async generator (not supported in the browser yet),\n",
              "// where there are multiple asynchronous steps and the Python side is going\n",
              "// to poll for completion of each step.\n",
              "// This uses a Promise to block the python side on completion of each step,\n",
              "// then passes the result of the previous step as the input to the next step.\n",
              "function _uploadFilesContinue(outputId) {\n",
              "  const outputElement = document.getElementById(outputId);\n",
              "  const steps = outputElement.steps;\n",
              "\n",
              "  const next = steps.next(outputElement.lastPromiseValue);\n",
              "  return Promise.resolve(next.value.promise).then((value) => {\n",
              "    // Cache the last promise value to make it available to the next\n",
              "    // step of the generator.\n",
              "    outputElement.lastPromiseValue = value;\n",
              "    return next.value.response;\n",
              "  });\n",
              "}\n",
              "\n",
              "/**\n",
              " * Generator function which is called between each async step of the upload\n",
              " * process.\n",
              " * @param {string} inputId Element ID of the input file picker element.\n",
              " * @param {string} outputId Element ID of the output display.\n",
              " * @return {!Iterable<!Object>} Iterable of next steps.\n",
              " */\n",
              "function* uploadFilesStep(inputId, outputId) {\n",
              "  const inputElement = document.getElementById(inputId);\n",
              "  inputElement.disabled = false;\n",
              "\n",
              "  const outputElement = document.getElementById(outputId);\n",
              "  outputElement.innerHTML = '';\n",
              "\n",
              "  const pickedPromise = new Promise((resolve) => {\n",
              "    inputElement.addEventListener('change', (e) => {\n",
              "      resolve(e.target.files);\n",
              "    });\n",
              "  });\n",
              "\n",
              "  const cancel = document.createElement('button');\n",
              "  inputElement.parentElement.appendChild(cancel);\n",
              "  cancel.textContent = 'Cancel upload';\n",
              "  const cancelPromise = new Promise((resolve) => {\n",
              "    cancel.onclick = () => {\n",
              "      resolve(null);\n",
              "    };\n",
              "  });\n",
              "\n",
              "  // Wait for the user to pick the files.\n",
              "  const files = yield {\n",
              "    promise: Promise.race([pickedPromise, cancelPromise]),\n",
              "    response: {\n",
              "      action: 'starting',\n",
              "    }\n",
              "  };\n",
              "\n",
              "  cancel.remove();\n",
              "\n",
              "  // Disable the input element since further picks are not allowed.\n",
              "  inputElement.disabled = true;\n",
              "\n",
              "  if (!files) {\n",
              "    return {\n",
              "      response: {\n",
              "        action: 'complete',\n",
              "      }\n",
              "    };\n",
              "  }\n",
              "\n",
              "  for (const file of files) {\n",
              "    const li = document.createElement('li');\n",
              "    li.append(span(file.name, {fontWeight: 'bold'}));\n",
              "    li.append(span(\n",
              "        `(${file.type || 'n/a'}) - ${file.size} bytes, ` +\n",
              "        `last modified: ${\n",
              "            file.lastModifiedDate ? file.lastModifiedDate.toLocaleDateString() :\n",
              "                                    'n/a'} - `));\n",
              "    const percent = span('0% done');\n",
              "    li.appendChild(percent);\n",
              "\n",
              "    outputElement.appendChild(li);\n",
              "\n",
              "    const fileDataPromise = new Promise((resolve) => {\n",
              "      const reader = new FileReader();\n",
              "      reader.onload = (e) => {\n",
              "        resolve(e.target.result);\n",
              "      };\n",
              "      reader.readAsArrayBuffer(file);\n",
              "    });\n",
              "    // Wait for the data to be ready.\n",
              "    let fileData = yield {\n",
              "      promise: fileDataPromise,\n",
              "      response: {\n",
              "        action: 'continue',\n",
              "      }\n",
              "    };\n",
              "\n",
              "    // Use a chunked sending to avoid message size limits. See b/62115660.\n",
              "    let position = 0;\n",
              "    do {\n",
              "      const length = Math.min(fileData.byteLength - position, MAX_PAYLOAD_SIZE);\n",
              "      const chunk = new Uint8Array(fileData, position, length);\n",
              "      position += length;\n",
              "\n",
              "      const base64 = btoa(String.fromCharCode.apply(null, chunk));\n",
              "      yield {\n",
              "        response: {\n",
              "          action: 'append',\n",
              "          file: file.name,\n",
              "          data: base64,\n",
              "        },\n",
              "      };\n",
              "\n",
              "      let percentDone = fileData.byteLength === 0 ?\n",
              "          100 :\n",
              "          Math.round((position / fileData.byteLength) * 100);\n",
              "      percent.textContent = `${percentDone}% done`;\n",
              "\n",
              "    } while (position < fileData.byteLength);\n",
              "  }\n",
              "\n",
              "  // All done.\n",
              "  yield {\n",
              "    response: {\n",
              "      action: 'complete',\n",
              "    }\n",
              "  };\n",
              "}\n",
              "\n",
              "scope.google = scope.google || {};\n",
              "scope.google.colab = scope.google.colab || {};\n",
              "scope.google.colab._files = {\n",
              "  _uploadFiles,\n",
              "  _uploadFilesContinue,\n",
              "};\n",
              "})(self);\n",
              "</script> "
            ],
            "text/plain": [
              "<IPython.core.display.HTML object>"
            ]
          },
          "metadata": {},
          "output_type": "display_data"
        }
      ],
      "source": [
        "from google.colab import files\n",
        "uploaded = files.upload()\n",
        "print(uploaded)"
      ]
    }
  ],
  "metadata": {
    "colab": {
      "provenance": [],
      "authorship_tag": "ABX9TyOfQgHIBGNaUOzCxXal7BNI",
      "include_colab_link": true
    },
    "kernelspec": {
      "display_name": "Python 3",
      "name": "python3"
    },
    "language_info": {
      "name": "python"
    }
  },
  "nbformat": 4,
  "nbformat_minor": 0
}